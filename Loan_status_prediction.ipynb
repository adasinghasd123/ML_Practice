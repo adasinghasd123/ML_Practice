{
 "cells": [
  {
   "cell_type": "code",
   "execution_count": 251,
   "metadata": {},
   "outputs": [],
   "source": [
    "import pandas as pd\n",
    "import numpy as np"
   ]
  },
  {
   "cell_type": "code",
   "execution_count": 252,
   "metadata": {},
   "outputs": [],
   "source": [
    "df=pd.read_csv('loan_data_set.csv')"
   ]
  },
  {
   "cell_type": "code",
   "execution_count": 253,
   "metadata": {},
   "outputs": [
    {
     "data": {
      "text/html": [
       "<div>\n",
       "<style scoped>\n",
       "    .dataframe tbody tr th:only-of-type {\n",
       "        vertical-align: middle;\n",
       "    }\n",
       "\n",
       "    .dataframe tbody tr th {\n",
       "        vertical-align: top;\n",
       "    }\n",
       "\n",
       "    .dataframe thead th {\n",
       "        text-align: right;\n",
       "    }\n",
       "</style>\n",
       "<table border=\"1\" class=\"dataframe\">\n",
       "  <thead>\n",
       "    <tr style=\"text-align: right;\">\n",
       "      <th></th>\n",
       "      <th>Loan_ID</th>\n",
       "      <th>Gender</th>\n",
       "      <th>Married</th>\n",
       "      <th>Dependents</th>\n",
       "      <th>Education</th>\n",
       "      <th>Self_Employed</th>\n",
       "      <th>ApplicantIncome</th>\n",
       "      <th>CoapplicantIncome</th>\n",
       "      <th>LoanAmount</th>\n",
       "      <th>Loan_Amount_Term</th>\n",
       "      <th>Credit_History</th>\n",
       "      <th>Property_Area</th>\n",
       "      <th>Loan_Status</th>\n",
       "    </tr>\n",
       "  </thead>\n",
       "  <tbody>\n",
       "    <tr>\n",
       "      <th>0</th>\n",
       "      <td>LP001002</td>\n",
       "      <td>Male</td>\n",
       "      <td>No</td>\n",
       "      <td>0</td>\n",
       "      <td>Graduate</td>\n",
       "      <td>No</td>\n",
       "      <td>5849</td>\n",
       "      <td>0.0</td>\n",
       "      <td>NaN</td>\n",
       "      <td>360.0</td>\n",
       "      <td>1.0</td>\n",
       "      <td>Urban</td>\n",
       "      <td>Y</td>\n",
       "    </tr>\n",
       "    <tr>\n",
       "      <th>1</th>\n",
       "      <td>LP001003</td>\n",
       "      <td>Male</td>\n",
       "      <td>Yes</td>\n",
       "      <td>1</td>\n",
       "      <td>Graduate</td>\n",
       "      <td>No</td>\n",
       "      <td>4583</td>\n",
       "      <td>1508.0</td>\n",
       "      <td>128.0</td>\n",
       "      <td>360.0</td>\n",
       "      <td>1.0</td>\n",
       "      <td>Rural</td>\n",
       "      <td>N</td>\n",
       "    </tr>\n",
       "    <tr>\n",
       "      <th>2</th>\n",
       "      <td>LP001005</td>\n",
       "      <td>Male</td>\n",
       "      <td>Yes</td>\n",
       "      <td>0</td>\n",
       "      <td>Graduate</td>\n",
       "      <td>Yes</td>\n",
       "      <td>3000</td>\n",
       "      <td>0.0</td>\n",
       "      <td>66.0</td>\n",
       "      <td>360.0</td>\n",
       "      <td>1.0</td>\n",
       "      <td>Urban</td>\n",
       "      <td>Y</td>\n",
       "    </tr>\n",
       "    <tr>\n",
       "      <th>3</th>\n",
       "      <td>LP001006</td>\n",
       "      <td>Male</td>\n",
       "      <td>Yes</td>\n",
       "      <td>0</td>\n",
       "      <td>Not Graduate</td>\n",
       "      <td>No</td>\n",
       "      <td>2583</td>\n",
       "      <td>2358.0</td>\n",
       "      <td>120.0</td>\n",
       "      <td>360.0</td>\n",
       "      <td>1.0</td>\n",
       "      <td>Urban</td>\n",
       "      <td>Y</td>\n",
       "    </tr>\n",
       "    <tr>\n",
       "      <th>4</th>\n",
       "      <td>LP001008</td>\n",
       "      <td>Male</td>\n",
       "      <td>No</td>\n",
       "      <td>0</td>\n",
       "      <td>Graduate</td>\n",
       "      <td>No</td>\n",
       "      <td>6000</td>\n",
       "      <td>0.0</td>\n",
       "      <td>141.0</td>\n",
       "      <td>360.0</td>\n",
       "      <td>1.0</td>\n",
       "      <td>Urban</td>\n",
       "      <td>Y</td>\n",
       "    </tr>\n",
       "  </tbody>\n",
       "</table>\n",
       "</div>"
      ],
      "text/plain": [
       "    Loan_ID Gender Married Dependents     Education Self_Employed  \\\n",
       "0  LP001002   Male      No          0      Graduate            No   \n",
       "1  LP001003   Male     Yes          1      Graduate            No   \n",
       "2  LP001005   Male     Yes          0      Graduate           Yes   \n",
       "3  LP001006   Male     Yes          0  Not Graduate            No   \n",
       "4  LP001008   Male      No          0      Graduate            No   \n",
       "\n",
       "   ApplicantIncome  CoapplicantIncome  LoanAmount  Loan_Amount_Term  \\\n",
       "0             5849                0.0         NaN             360.0   \n",
       "1             4583             1508.0       128.0             360.0   \n",
       "2             3000                0.0        66.0             360.0   \n",
       "3             2583             2358.0       120.0             360.0   \n",
       "4             6000                0.0       141.0             360.0   \n",
       "\n",
       "   Credit_History Property_Area Loan_Status  \n",
       "0             1.0         Urban           Y  \n",
       "1             1.0         Rural           N  \n",
       "2             1.0         Urban           Y  \n",
       "3             1.0         Urban           Y  \n",
       "4             1.0         Urban           Y  "
      ]
     },
     "execution_count": 253,
     "metadata": {},
     "output_type": "execute_result"
    }
   ],
   "source": [
    "df.head()"
   ]
  },
  {
   "cell_type": "code",
   "execution_count": 254,
   "metadata": {},
   "outputs": [
    {
     "data": {
      "text/html": [
       "<div>\n",
       "<style scoped>\n",
       "    .dataframe tbody tr th:only-of-type {\n",
       "        vertical-align: middle;\n",
       "    }\n",
       "\n",
       "    .dataframe tbody tr th {\n",
       "        vertical-align: top;\n",
       "    }\n",
       "\n",
       "    .dataframe thead th {\n",
       "        text-align: right;\n",
       "    }\n",
       "</style>\n",
       "<table border=\"1\" class=\"dataframe\">\n",
       "  <thead>\n",
       "    <tr style=\"text-align: right;\">\n",
       "      <th></th>\n",
       "      <th>Loan_ID</th>\n",
       "      <th>Gender</th>\n",
       "      <th>Married</th>\n",
       "      <th>Dependents</th>\n",
       "      <th>Education</th>\n",
       "      <th>Self_Employed</th>\n",
       "      <th>ApplicantIncome</th>\n",
       "      <th>CoapplicantIncome</th>\n",
       "      <th>LoanAmount</th>\n",
       "      <th>Loan_Amount_Term</th>\n",
       "      <th>Credit_History</th>\n",
       "      <th>Property_Area</th>\n",
       "      <th>Loan_Status</th>\n",
       "    </tr>\n",
       "  </thead>\n",
       "  <tbody>\n",
       "    <tr>\n",
       "      <th>609</th>\n",
       "      <td>LP002978</td>\n",
       "      <td>Female</td>\n",
       "      <td>No</td>\n",
       "      <td>0</td>\n",
       "      <td>Graduate</td>\n",
       "      <td>No</td>\n",
       "      <td>2900</td>\n",
       "      <td>0.0</td>\n",
       "      <td>71.0</td>\n",
       "      <td>360.0</td>\n",
       "      <td>1.0</td>\n",
       "      <td>Rural</td>\n",
       "      <td>Y</td>\n",
       "    </tr>\n",
       "    <tr>\n",
       "      <th>610</th>\n",
       "      <td>LP002979</td>\n",
       "      <td>Male</td>\n",
       "      <td>Yes</td>\n",
       "      <td>3+</td>\n",
       "      <td>Graduate</td>\n",
       "      <td>No</td>\n",
       "      <td>4106</td>\n",
       "      <td>0.0</td>\n",
       "      <td>40.0</td>\n",
       "      <td>180.0</td>\n",
       "      <td>1.0</td>\n",
       "      <td>Rural</td>\n",
       "      <td>Y</td>\n",
       "    </tr>\n",
       "    <tr>\n",
       "      <th>611</th>\n",
       "      <td>LP002983</td>\n",
       "      <td>Male</td>\n",
       "      <td>Yes</td>\n",
       "      <td>1</td>\n",
       "      <td>Graduate</td>\n",
       "      <td>No</td>\n",
       "      <td>8072</td>\n",
       "      <td>240.0</td>\n",
       "      <td>253.0</td>\n",
       "      <td>360.0</td>\n",
       "      <td>1.0</td>\n",
       "      <td>Urban</td>\n",
       "      <td>Y</td>\n",
       "    </tr>\n",
       "    <tr>\n",
       "      <th>612</th>\n",
       "      <td>LP002984</td>\n",
       "      <td>Male</td>\n",
       "      <td>Yes</td>\n",
       "      <td>2</td>\n",
       "      <td>Graduate</td>\n",
       "      <td>No</td>\n",
       "      <td>7583</td>\n",
       "      <td>0.0</td>\n",
       "      <td>187.0</td>\n",
       "      <td>360.0</td>\n",
       "      <td>1.0</td>\n",
       "      <td>Urban</td>\n",
       "      <td>Y</td>\n",
       "    </tr>\n",
       "    <tr>\n",
       "      <th>613</th>\n",
       "      <td>LP002990</td>\n",
       "      <td>Female</td>\n",
       "      <td>No</td>\n",
       "      <td>0</td>\n",
       "      <td>Graduate</td>\n",
       "      <td>Yes</td>\n",
       "      <td>4583</td>\n",
       "      <td>0.0</td>\n",
       "      <td>133.0</td>\n",
       "      <td>360.0</td>\n",
       "      <td>0.0</td>\n",
       "      <td>Semiurban</td>\n",
       "      <td>N</td>\n",
       "    </tr>\n",
       "  </tbody>\n",
       "</table>\n",
       "</div>"
      ],
      "text/plain": [
       "      Loan_ID  Gender Married Dependents Education Self_Employed  \\\n",
       "609  LP002978  Female      No          0  Graduate            No   \n",
       "610  LP002979    Male     Yes         3+  Graduate            No   \n",
       "611  LP002983    Male     Yes          1  Graduate            No   \n",
       "612  LP002984    Male     Yes          2  Graduate            No   \n",
       "613  LP002990  Female      No          0  Graduate           Yes   \n",
       "\n",
       "     ApplicantIncome  CoapplicantIncome  LoanAmount  Loan_Amount_Term  \\\n",
       "609             2900                0.0        71.0             360.0   \n",
       "610             4106                0.0        40.0             180.0   \n",
       "611             8072              240.0       253.0             360.0   \n",
       "612             7583                0.0       187.0             360.0   \n",
       "613             4583                0.0       133.0             360.0   \n",
       "\n",
       "     Credit_History Property_Area Loan_Status  \n",
       "609             1.0         Rural           Y  \n",
       "610             1.0         Rural           Y  \n",
       "611             1.0         Urban           Y  \n",
       "612             1.0         Urban           Y  \n",
       "613             0.0     Semiurban           N  "
      ]
     },
     "execution_count": 254,
     "metadata": {},
     "output_type": "execute_result"
    }
   ],
   "source": [
    "df.tail()"
   ]
  },
  {
   "cell_type": "code",
   "execution_count": 255,
   "metadata": {},
   "outputs": [
    {
     "data": {
      "text/plain": [
       "(614, 13)"
      ]
     },
     "execution_count": 255,
     "metadata": {},
     "output_type": "execute_result"
    }
   ],
   "source": [
    "df.shape"
   ]
  },
  {
   "cell_type": "code",
   "execution_count": 256,
   "metadata": {},
   "outputs": [
    {
     "name": "stdout",
     "output_type": "stream",
     "text": [
      "<class 'pandas.core.frame.DataFrame'>\n",
      "RangeIndex: 614 entries, 0 to 613\n",
      "Data columns (total 13 columns):\n",
      " #   Column             Non-Null Count  Dtype  \n",
      "---  ------             --------------  -----  \n",
      " 0   Loan_ID            614 non-null    object \n",
      " 1   Gender             601 non-null    object \n",
      " 2   Married            611 non-null    object \n",
      " 3   Dependents         599 non-null    object \n",
      " 4   Education          614 non-null    object \n",
      " 5   Self_Employed      582 non-null    object \n",
      " 6   ApplicantIncome    614 non-null    int64  \n",
      " 7   CoapplicantIncome  614 non-null    float64\n",
      " 8   LoanAmount         592 non-null    float64\n",
      " 9   Loan_Amount_Term   600 non-null    float64\n",
      " 10  Credit_History     564 non-null    float64\n",
      " 11  Property_Area      614 non-null    object \n",
      " 12  Loan_Status        614 non-null    object \n",
      "dtypes: float64(4), int64(1), object(8)\n",
      "memory usage: 62.5+ KB\n"
     ]
    }
   ],
   "source": [
    "df.info()"
   ]
  },
  {
   "cell_type": "code",
   "execution_count": 257,
   "metadata": {},
   "outputs": [
    {
     "data": {
      "text/html": [
       "<div>\n",
       "<style scoped>\n",
       "    .dataframe tbody tr th:only-of-type {\n",
       "        vertical-align: middle;\n",
       "    }\n",
       "\n",
       "    .dataframe tbody tr th {\n",
       "        vertical-align: top;\n",
       "    }\n",
       "\n",
       "    .dataframe thead th {\n",
       "        text-align: right;\n",
       "    }\n",
       "</style>\n",
       "<table border=\"1\" class=\"dataframe\">\n",
       "  <thead>\n",
       "    <tr style=\"text-align: right;\">\n",
       "      <th></th>\n",
       "      <th>ApplicantIncome</th>\n",
       "      <th>CoapplicantIncome</th>\n",
       "      <th>LoanAmount</th>\n",
       "      <th>Loan_Amount_Term</th>\n",
       "      <th>Credit_History</th>\n",
       "    </tr>\n",
       "  </thead>\n",
       "  <tbody>\n",
       "    <tr>\n",
       "      <th>count</th>\n",
       "      <td>614.000000</td>\n",
       "      <td>614.000000</td>\n",
       "      <td>592.000000</td>\n",
       "      <td>600.00000</td>\n",
       "      <td>564.000000</td>\n",
       "    </tr>\n",
       "    <tr>\n",
       "      <th>mean</th>\n",
       "      <td>5403.459283</td>\n",
       "      <td>1621.245798</td>\n",
       "      <td>146.412162</td>\n",
       "      <td>342.00000</td>\n",
       "      <td>0.842199</td>\n",
       "    </tr>\n",
       "    <tr>\n",
       "      <th>std</th>\n",
       "      <td>6109.041673</td>\n",
       "      <td>2926.248369</td>\n",
       "      <td>85.587325</td>\n",
       "      <td>65.12041</td>\n",
       "      <td>0.364878</td>\n",
       "    </tr>\n",
       "    <tr>\n",
       "      <th>min</th>\n",
       "      <td>150.000000</td>\n",
       "      <td>0.000000</td>\n",
       "      <td>9.000000</td>\n",
       "      <td>12.00000</td>\n",
       "      <td>0.000000</td>\n",
       "    </tr>\n",
       "    <tr>\n",
       "      <th>25%</th>\n",
       "      <td>2877.500000</td>\n",
       "      <td>0.000000</td>\n",
       "      <td>100.000000</td>\n",
       "      <td>360.00000</td>\n",
       "      <td>1.000000</td>\n",
       "    </tr>\n",
       "    <tr>\n",
       "      <th>50%</th>\n",
       "      <td>3812.500000</td>\n",
       "      <td>1188.500000</td>\n",
       "      <td>128.000000</td>\n",
       "      <td>360.00000</td>\n",
       "      <td>1.000000</td>\n",
       "    </tr>\n",
       "    <tr>\n",
       "      <th>75%</th>\n",
       "      <td>5795.000000</td>\n",
       "      <td>2297.250000</td>\n",
       "      <td>168.000000</td>\n",
       "      <td>360.00000</td>\n",
       "      <td>1.000000</td>\n",
       "    </tr>\n",
       "    <tr>\n",
       "      <th>max</th>\n",
       "      <td>81000.000000</td>\n",
       "      <td>41667.000000</td>\n",
       "      <td>700.000000</td>\n",
       "      <td>480.00000</td>\n",
       "      <td>1.000000</td>\n",
       "    </tr>\n",
       "  </tbody>\n",
       "</table>\n",
       "</div>"
      ],
      "text/plain": [
       "       ApplicantIncome  CoapplicantIncome  LoanAmount  Loan_Amount_Term  \\\n",
       "count       614.000000         614.000000  592.000000         600.00000   \n",
       "mean       5403.459283        1621.245798  146.412162         342.00000   \n",
       "std        6109.041673        2926.248369   85.587325          65.12041   \n",
       "min         150.000000           0.000000    9.000000          12.00000   \n",
       "25%        2877.500000           0.000000  100.000000         360.00000   \n",
       "50%        3812.500000        1188.500000  128.000000         360.00000   \n",
       "75%        5795.000000        2297.250000  168.000000         360.00000   \n",
       "max       81000.000000       41667.000000  700.000000         480.00000   \n",
       "\n",
       "       Credit_History  \n",
       "count      564.000000  \n",
       "mean         0.842199  \n",
       "std          0.364878  \n",
       "min          0.000000  \n",
       "25%          1.000000  \n",
       "50%          1.000000  \n",
       "75%          1.000000  \n",
       "max          1.000000  "
      ]
     },
     "execution_count": 257,
     "metadata": {},
     "output_type": "execute_result"
    }
   ],
   "source": [
    "df.describe()"
   ]
  },
  {
   "cell_type": "code",
   "execution_count": 258,
   "metadata": {},
   "outputs": [
    {
     "data": {
      "text/plain": [
       "Loan_ID               0\n",
       "Gender               13\n",
       "Married               3\n",
       "Dependents           15\n",
       "Education             0\n",
       "Self_Employed        32\n",
       "ApplicantIncome       0\n",
       "CoapplicantIncome     0\n",
       "LoanAmount           22\n",
       "Loan_Amount_Term     14\n",
       "Credit_History       50\n",
       "Property_Area         0\n",
       "Loan_Status           0\n",
       "dtype: int64"
      ]
     },
     "execution_count": 258,
     "metadata": {},
     "output_type": "execute_result"
    }
   ],
   "source": [
    "df.isnull().sum()"
   ]
  },
  {
   "attachments": {},
   "cell_type": "markdown",
   "metadata": {},
   "source": [
    "married--->most frequent\n",
    "self_employed--->most frequent\n",
    "Dependents--->most frequent\n",
    "Loan_Amount--->mean\n",
    "Loan_Amount_term--->mean\n",
    "Credit_History --->most frequent"
   ]
  },
  {
   "cell_type": "code",
   "execution_count": 259,
   "metadata": {},
   "outputs": [],
   "source": [
    "from sklearn.model_selection import train_test_split\n",
    "X_train,X_test,y_train,y_test=train_test_split(df.drop(['Loan_ID','Loan_Status'],axis=1),df['Loan_Status'],test_size=.2,random_state=8)"
   ]
  },
  {
   "cell_type": "code",
   "execution_count": 260,
   "metadata": {},
   "outputs": [
    {
     "name": "stdout",
     "output_type": "stream",
     "text": [
      "(491, 11)\n",
      "(491,)\n",
      "(123, 11)\n",
      "(123,)\n"
     ]
    }
   ],
   "source": [
    "print(X_train.shape)\n",
    "print(y_train.shape)\n",
    "print(X_test.shape)\n",
    "print(y_test.shape)"
   ]
  },
  {
   "cell_type": "code",
   "execution_count": 261,
   "metadata": {},
   "outputs": [],
   "source": [
    "from sklearn.model_selection import train_test_split\n",
    "from sklearn.compose import ColumnTransformer\n",
    "from sklearn.impute import SimpleImputer\n",
    "from sklearn.preprocessing import OneHotEncoder\n",
    "from sklearn.preprocessing import MinMaxScaler,LabelEncoder,StandardScaler\n",
    "from sklearn.pipeline import Pipeline,make_pipeline\n",
    "from sklearn.ensemble import RandomForestClassifier\n",
    "from sklearn import set_config\n",
    "set_config(display='diagram')"
   ]
  },
  {
   "cell_type": "code",
   "execution_count": null,
   "metadata": {},
   "outputs": [],
   "source": []
  },
  {
   "cell_type": "code",
   "execution_count": 262,
   "metadata": {},
   "outputs": [
    {
     "name": "stdout",
     "output_type": "stream",
     "text": [
      "<class 'pandas.core.frame.DataFrame'>\n",
      "Int64Index: 491 entries, 414 to 451\n",
      "Data columns (total 11 columns):\n",
      " #   Column             Non-Null Count  Dtype  \n",
      "---  ------             --------------  -----  \n",
      " 0   Gender             483 non-null    object \n",
      " 1   Married            489 non-null    object \n",
      " 2   Dependents         477 non-null    object \n",
      " 3   Education          491 non-null    object \n",
      " 4   Self_Employed      463 non-null    object \n",
      " 5   ApplicantIncome    491 non-null    int64  \n",
      " 6   CoapplicantIncome  491 non-null    float64\n",
      " 7   LoanAmount         474 non-null    float64\n",
      " 8   Loan_Amount_Term   479 non-null    float64\n",
      " 9   Credit_History     451 non-null    float64\n",
      " 10  Property_Area      491 non-null    object \n",
      "dtypes: float64(4), int64(1), object(6)\n",
      "memory usage: 46.0+ KB\n"
     ]
    }
   ],
   "source": [
    "X_train.info()"
   ]
  },
  {
   "cell_type": "code",
   "execution_count": 263,
   "metadata": {},
   "outputs": [],
   "source": [
    "trf1=ColumnTransformer(\n",
    "    [\n",
    "        ('imputer_cat',SimpleImputer(strategy='most_frequent'),[ 'Gender','Married', 'Dependents', 'Education',\n",
    "       'Self_Employed', 'Credit_History']),\n",
    "        ('impute_num',SimpleImputer(strategy='mean'),['LoanAmount','Loan_Amount_Term']),\n",
    "        ],remainder='passthrough'\n",
    ")"
   ]
  },
  {
   "cell_type": "code",
   "execution_count": 264,
   "metadata": {},
   "outputs": [],
   "source": [
    "trf2=ColumnTransformer(\n",
    "    [\n",
    "       ('encoding',OneHotEncoder(sparse=False,handle_unknown='ignore'),[0,1,2,3,4,10])\n",
    "    ],remainder='passthrough'\n",
    ")"
   ]
  },
  {
   "cell_type": "code",
   "execution_count": 265,
   "metadata": {},
   "outputs": [],
   "source": [
    "trf3=ColumnTransformer([\n",
    "('scaling',StandardScaler(),[5,6,7,8])\n",
    "],remainder='passthrough')"
   ]
  },
  {
   "cell_type": "code",
   "execution_count": 266,
   "metadata": {},
   "outputs": [],
   "source": [
    "trf4=RandomForestClassifier()"
   ]
  },
  {
   "cell_type": "code",
   "execution_count": 267,
   "metadata": {},
   "outputs": [],
   "source": [
    "pipe=Pipeline(\n",
    "    [\n",
    "        ('trf1',trf1),\n",
    "        ('trf2',trf2),\n",
    "        ('trf3',trf3),\n",
    "        ('trf4',trf4)\n",
    "    ]\n",
    ")"
   ]
  },
  {
   "cell_type": "code",
   "execution_count": 268,
   "metadata": {},
   "outputs": [
    {
     "data": {
      "text/html": [
       "<style>#sk-54524782-551c-421b-863c-555aba8ffc2a {color: black;background-color: white;}#sk-54524782-551c-421b-863c-555aba8ffc2a pre{padding: 0;}#sk-54524782-551c-421b-863c-555aba8ffc2a div.sk-toggleable {background-color: white;}#sk-54524782-551c-421b-863c-555aba8ffc2a label.sk-toggleable__label {cursor: pointer;display: block;width: 100%;margin-bottom: 0;padding: 0.3em;box-sizing: border-box;text-align: center;}#sk-54524782-551c-421b-863c-555aba8ffc2a label.sk-toggleable__label-arrow:before {content: \"▸\";float: left;margin-right: 0.25em;color: #696969;}#sk-54524782-551c-421b-863c-555aba8ffc2a label.sk-toggleable__label-arrow:hover:before {color: black;}#sk-54524782-551c-421b-863c-555aba8ffc2a div.sk-estimator:hover label.sk-toggleable__label-arrow:before {color: black;}#sk-54524782-551c-421b-863c-555aba8ffc2a div.sk-toggleable__content {max-height: 0;max-width: 0;overflow: hidden;text-align: left;background-color: #f0f8ff;}#sk-54524782-551c-421b-863c-555aba8ffc2a div.sk-toggleable__content pre {margin: 0.2em;color: black;border-radius: 0.25em;background-color: #f0f8ff;}#sk-54524782-551c-421b-863c-555aba8ffc2a input.sk-toggleable__control:checked~div.sk-toggleable__content {max-height: 200px;max-width: 100%;overflow: auto;}#sk-54524782-551c-421b-863c-555aba8ffc2a input.sk-toggleable__control:checked~label.sk-toggleable__label-arrow:before {content: \"▾\";}#sk-54524782-551c-421b-863c-555aba8ffc2a div.sk-estimator input.sk-toggleable__control:checked~label.sk-toggleable__label {background-color: #d4ebff;}#sk-54524782-551c-421b-863c-555aba8ffc2a div.sk-label input.sk-toggleable__control:checked~label.sk-toggleable__label {background-color: #d4ebff;}#sk-54524782-551c-421b-863c-555aba8ffc2a input.sk-hidden--visually {border: 0;clip: rect(1px 1px 1px 1px);clip: rect(1px, 1px, 1px, 1px);height: 1px;margin: -1px;overflow: hidden;padding: 0;position: absolute;width: 1px;}#sk-54524782-551c-421b-863c-555aba8ffc2a div.sk-estimator {font-family: monospace;background-color: #f0f8ff;border: 1px dotted black;border-radius: 0.25em;box-sizing: border-box;margin-bottom: 0.5em;}#sk-54524782-551c-421b-863c-555aba8ffc2a div.sk-estimator:hover {background-color: #d4ebff;}#sk-54524782-551c-421b-863c-555aba8ffc2a div.sk-parallel-item::after {content: \"\";width: 100%;border-bottom: 1px solid gray;flex-grow: 1;}#sk-54524782-551c-421b-863c-555aba8ffc2a div.sk-label:hover label.sk-toggleable__label {background-color: #d4ebff;}#sk-54524782-551c-421b-863c-555aba8ffc2a div.sk-serial::before {content: \"\";position: absolute;border-left: 1px solid gray;box-sizing: border-box;top: 2em;bottom: 0;left: 50%;}#sk-54524782-551c-421b-863c-555aba8ffc2a div.sk-serial {display: flex;flex-direction: column;align-items: center;background-color: white;padding-right: 0.2em;padding-left: 0.2em;}#sk-54524782-551c-421b-863c-555aba8ffc2a div.sk-item {z-index: 1;}#sk-54524782-551c-421b-863c-555aba8ffc2a div.sk-parallel {display: flex;align-items: stretch;justify-content: center;background-color: white;}#sk-54524782-551c-421b-863c-555aba8ffc2a div.sk-parallel::before {content: \"\";position: absolute;border-left: 1px solid gray;box-sizing: border-box;top: 2em;bottom: 0;left: 50%;}#sk-54524782-551c-421b-863c-555aba8ffc2a div.sk-parallel-item {display: flex;flex-direction: column;position: relative;background-color: white;}#sk-54524782-551c-421b-863c-555aba8ffc2a div.sk-parallel-item:first-child::after {align-self: flex-end;width: 50%;}#sk-54524782-551c-421b-863c-555aba8ffc2a div.sk-parallel-item:last-child::after {align-self: flex-start;width: 50%;}#sk-54524782-551c-421b-863c-555aba8ffc2a div.sk-parallel-item:only-child::after {width: 0;}#sk-54524782-551c-421b-863c-555aba8ffc2a div.sk-dashed-wrapped {border: 1px dashed gray;margin: 0 0.4em 0.5em 0.4em;box-sizing: border-box;padding-bottom: 0.4em;background-color: white;position: relative;}#sk-54524782-551c-421b-863c-555aba8ffc2a div.sk-label label {font-family: monospace;font-weight: bold;background-color: white;display: inline-block;line-height: 1.2em;}#sk-54524782-551c-421b-863c-555aba8ffc2a div.sk-label-container {position: relative;z-index: 2;text-align: center;}#sk-54524782-551c-421b-863c-555aba8ffc2a div.sk-container {/* jupyter's `normalize.less` sets `[hidden] { display: none; }` but bootstrap.min.css set `[hidden] { display: none !important; }` so we also need the `!important` here to be able to override the default hidden behavior on the sphinx rendered scikit-learn.org. See: https://github.com/scikit-learn/scikit-learn/issues/21755 */display: inline-block !important;position: relative;}#sk-54524782-551c-421b-863c-555aba8ffc2a div.sk-text-repr-fallback {display: none;}</style><div id=\"sk-54524782-551c-421b-863c-555aba8ffc2a\" class=\"sk-top-container\"><div class=\"sk-text-repr-fallback\"><pre>Pipeline(steps=[(&#x27;trf1&#x27;,\n",
       "                 ColumnTransformer(remainder=&#x27;passthrough&#x27;,\n",
       "                                   transformers=[(&#x27;imputer_cat&#x27;,\n",
       "                                                  SimpleImputer(strategy=&#x27;most_frequent&#x27;),\n",
       "                                                  [&#x27;Gender&#x27;, &#x27;Married&#x27;,\n",
       "                                                   &#x27;Dependents&#x27;, &#x27;Education&#x27;,\n",
       "                                                   &#x27;Self_Employed&#x27;,\n",
       "                                                   &#x27;Credit_History&#x27;]),\n",
       "                                                 (&#x27;impute_num&#x27;, SimpleImputer(),\n",
       "                                                  [&#x27;LoanAmount&#x27;,\n",
       "                                                   &#x27;Loan_Amount_Term&#x27;])])),\n",
       "                (&#x27;trf2&#x27;,\n",
       "                 ColumnTransformer(remainder=&#x27;passthrough&#x27;,\n",
       "                                   transformers=[(&#x27;encoding&#x27;,\n",
       "                                                  OneHotEncoder(handle_unknown=&#x27;ignore&#x27;,\n",
       "                                                                sparse=False),\n",
       "                                                  [0, 1, 2, 3, 4, 10])])),\n",
       "                (&#x27;trf3&#x27;,\n",
       "                 ColumnTransformer(remainder=&#x27;passthrough&#x27;,\n",
       "                                   transformers=[(&#x27;scaling&#x27;, StandardScaler(),\n",
       "                                                  [5, 6, 7, 8])])),\n",
       "                (&#x27;trf4&#x27;, RandomForestClassifier())])</pre><b>Please rerun this cell to show the HTML repr or trust the notebook.</b></div><div class=\"sk-container\" hidden><div class=\"sk-item sk-dashed-wrapped\"><div class=\"sk-label-container\"><div class=\"sk-label sk-toggleable\"><input class=\"sk-toggleable__control sk-hidden--visually\" id=\"9127e578-49c8-413a-9db3-5b9e11415e4a\" type=\"checkbox\" ><label for=\"9127e578-49c8-413a-9db3-5b9e11415e4a\" class=\"sk-toggleable__label sk-toggleable__label-arrow\">Pipeline</label><div class=\"sk-toggleable__content\"><pre>Pipeline(steps=[(&#x27;trf1&#x27;,\n",
       "                 ColumnTransformer(remainder=&#x27;passthrough&#x27;,\n",
       "                                   transformers=[(&#x27;imputer_cat&#x27;,\n",
       "                                                  SimpleImputer(strategy=&#x27;most_frequent&#x27;),\n",
       "                                                  [&#x27;Gender&#x27;, &#x27;Married&#x27;,\n",
       "                                                   &#x27;Dependents&#x27;, &#x27;Education&#x27;,\n",
       "                                                   &#x27;Self_Employed&#x27;,\n",
       "                                                   &#x27;Credit_History&#x27;]),\n",
       "                                                 (&#x27;impute_num&#x27;, SimpleImputer(),\n",
       "                                                  [&#x27;LoanAmount&#x27;,\n",
       "                                                   &#x27;Loan_Amount_Term&#x27;])])),\n",
       "                (&#x27;trf2&#x27;,\n",
       "                 ColumnTransformer(remainder=&#x27;passthrough&#x27;,\n",
       "                                   transformers=[(&#x27;encoding&#x27;,\n",
       "                                                  OneHotEncoder(handle_unknown=&#x27;ignore&#x27;,\n",
       "                                                                sparse=False),\n",
       "                                                  [0, 1, 2, 3, 4, 10])])),\n",
       "                (&#x27;trf3&#x27;,\n",
       "                 ColumnTransformer(remainder=&#x27;passthrough&#x27;,\n",
       "                                   transformers=[(&#x27;scaling&#x27;, StandardScaler(),\n",
       "                                                  [5, 6, 7, 8])])),\n",
       "                (&#x27;trf4&#x27;, RandomForestClassifier())])</pre></div></div></div><div class=\"sk-serial\"><div class=\"sk-item sk-dashed-wrapped\"><div class=\"sk-label-container\"><div class=\"sk-label sk-toggleable\"><input class=\"sk-toggleable__control sk-hidden--visually\" id=\"4397fdc6-e7e9-4c7e-bf5c-55912ed96854\" type=\"checkbox\" ><label for=\"4397fdc6-e7e9-4c7e-bf5c-55912ed96854\" class=\"sk-toggleable__label sk-toggleable__label-arrow\">trf1: ColumnTransformer</label><div class=\"sk-toggleable__content\"><pre>ColumnTransformer(remainder=&#x27;passthrough&#x27;,\n",
       "                  transformers=[(&#x27;imputer_cat&#x27;,\n",
       "                                 SimpleImputer(strategy=&#x27;most_frequent&#x27;),\n",
       "                                 [&#x27;Gender&#x27;, &#x27;Married&#x27;, &#x27;Dependents&#x27;,\n",
       "                                  &#x27;Education&#x27;, &#x27;Self_Employed&#x27;,\n",
       "                                  &#x27;Credit_History&#x27;]),\n",
       "                                (&#x27;impute_num&#x27;, SimpleImputer(),\n",
       "                                 [&#x27;LoanAmount&#x27;, &#x27;Loan_Amount_Term&#x27;])])</pre></div></div></div><div class=\"sk-parallel\"><div class=\"sk-parallel-item\"><div class=\"sk-item\"><div class=\"sk-label-container\"><div class=\"sk-label sk-toggleable\"><input class=\"sk-toggleable__control sk-hidden--visually\" id=\"9061c989-8f1d-4d4d-a646-c484da98b76f\" type=\"checkbox\" ><label for=\"9061c989-8f1d-4d4d-a646-c484da98b76f\" class=\"sk-toggleable__label sk-toggleable__label-arrow\">imputer_cat</label><div class=\"sk-toggleable__content\"><pre>[&#x27;Gender&#x27;, &#x27;Married&#x27;, &#x27;Dependents&#x27;, &#x27;Education&#x27;, &#x27;Self_Employed&#x27;, &#x27;Credit_History&#x27;]</pre></div></div></div><div class=\"sk-serial\"><div class=\"sk-item\"><div class=\"sk-estimator sk-toggleable\"><input class=\"sk-toggleable__control sk-hidden--visually\" id=\"1545c9c9-30cc-4d9b-9b88-18305bb5bb35\" type=\"checkbox\" ><label for=\"1545c9c9-30cc-4d9b-9b88-18305bb5bb35\" class=\"sk-toggleable__label sk-toggleable__label-arrow\">SimpleImputer</label><div class=\"sk-toggleable__content\"><pre>SimpleImputer(strategy=&#x27;most_frequent&#x27;)</pre></div></div></div></div></div></div><div class=\"sk-parallel-item\"><div class=\"sk-item\"><div class=\"sk-label-container\"><div class=\"sk-label sk-toggleable\"><input class=\"sk-toggleable__control sk-hidden--visually\" id=\"cfa04e4e-e856-4f1a-a923-f58a814690a6\" type=\"checkbox\" ><label for=\"cfa04e4e-e856-4f1a-a923-f58a814690a6\" class=\"sk-toggleable__label sk-toggleable__label-arrow\">impute_num</label><div class=\"sk-toggleable__content\"><pre>[&#x27;LoanAmount&#x27;, &#x27;Loan_Amount_Term&#x27;]</pre></div></div></div><div class=\"sk-serial\"><div class=\"sk-item\"><div class=\"sk-estimator sk-toggleable\"><input class=\"sk-toggleable__control sk-hidden--visually\" id=\"81198ead-0b41-4b4c-85d7-e9ab8fac328d\" type=\"checkbox\" ><label for=\"81198ead-0b41-4b4c-85d7-e9ab8fac328d\" class=\"sk-toggleable__label sk-toggleable__label-arrow\">SimpleImputer</label><div class=\"sk-toggleable__content\"><pre>SimpleImputer()</pre></div></div></div></div></div></div><div class=\"sk-parallel-item\"><div class=\"sk-item\"><div class=\"sk-label-container\"><div class=\"sk-label sk-toggleable\"><input class=\"sk-toggleable__control sk-hidden--visually\" id=\"5b46993d-1f2c-457c-b04f-ca942c0220a9\" type=\"checkbox\" ><label for=\"5b46993d-1f2c-457c-b04f-ca942c0220a9\" class=\"sk-toggleable__label sk-toggleable__label-arrow\">remainder</label><div class=\"sk-toggleable__content\"><pre>[&#x27;ApplicantIncome&#x27;, &#x27;CoapplicantIncome&#x27;, &#x27;Property_Area&#x27;]</pre></div></div></div><div class=\"sk-serial\"><div class=\"sk-item\"><div class=\"sk-estimator sk-toggleable\"><input class=\"sk-toggleable__control sk-hidden--visually\" id=\"f0f1724c-e1a1-46fe-915c-585546c0c952\" type=\"checkbox\" ><label for=\"f0f1724c-e1a1-46fe-915c-585546c0c952\" class=\"sk-toggleable__label sk-toggleable__label-arrow\">passthrough</label><div class=\"sk-toggleable__content\"><pre>passthrough</pre></div></div></div></div></div></div></div></div><div class=\"sk-item sk-dashed-wrapped\"><div class=\"sk-label-container\"><div class=\"sk-label sk-toggleable\"><input class=\"sk-toggleable__control sk-hidden--visually\" id=\"dce3639a-7846-4914-a928-513b3a7201b2\" type=\"checkbox\" ><label for=\"dce3639a-7846-4914-a928-513b3a7201b2\" class=\"sk-toggleable__label sk-toggleable__label-arrow\">trf2: ColumnTransformer</label><div class=\"sk-toggleable__content\"><pre>ColumnTransformer(remainder=&#x27;passthrough&#x27;,\n",
       "                  transformers=[(&#x27;encoding&#x27;,\n",
       "                                 OneHotEncoder(handle_unknown=&#x27;ignore&#x27;,\n",
       "                                               sparse=False),\n",
       "                                 [0, 1, 2, 3, 4, 10])])</pre></div></div></div><div class=\"sk-parallel\"><div class=\"sk-parallel-item\"><div class=\"sk-item\"><div class=\"sk-label-container\"><div class=\"sk-label sk-toggleable\"><input class=\"sk-toggleable__control sk-hidden--visually\" id=\"006002d7-4390-407a-a0ee-0ef90056d20a\" type=\"checkbox\" ><label for=\"006002d7-4390-407a-a0ee-0ef90056d20a\" class=\"sk-toggleable__label sk-toggleable__label-arrow\">encoding</label><div class=\"sk-toggleable__content\"><pre>[0, 1, 2, 3, 4, 10]</pre></div></div></div><div class=\"sk-serial\"><div class=\"sk-item\"><div class=\"sk-estimator sk-toggleable\"><input class=\"sk-toggleable__control sk-hidden--visually\" id=\"738c8b67-01fb-4d9b-af00-2ff83db9ddf1\" type=\"checkbox\" ><label for=\"738c8b67-01fb-4d9b-af00-2ff83db9ddf1\" class=\"sk-toggleable__label sk-toggleable__label-arrow\">OneHotEncoder</label><div class=\"sk-toggleable__content\"><pre>OneHotEncoder(handle_unknown=&#x27;ignore&#x27;, sparse=False)</pre></div></div></div></div></div></div><div class=\"sk-parallel-item\"><div class=\"sk-item\"><div class=\"sk-label-container\"><div class=\"sk-label sk-toggleable\"><input class=\"sk-toggleable__control sk-hidden--visually\" id=\"3b5dfadb-3565-41b7-9e27-048caf9f54aa\" type=\"checkbox\" ><label for=\"3b5dfadb-3565-41b7-9e27-048caf9f54aa\" class=\"sk-toggleable__label sk-toggleable__label-arrow\">remainder</label><div class=\"sk-toggleable__content\"><pre>[5, 6, 7, 8, 9]</pre></div></div></div><div class=\"sk-serial\"><div class=\"sk-item\"><div class=\"sk-estimator sk-toggleable\"><input class=\"sk-toggleable__control sk-hidden--visually\" id=\"0973628f-86cc-4054-b5d4-811a4fe49bff\" type=\"checkbox\" ><label for=\"0973628f-86cc-4054-b5d4-811a4fe49bff\" class=\"sk-toggleable__label sk-toggleable__label-arrow\">passthrough</label><div class=\"sk-toggleable__content\"><pre>passthrough</pre></div></div></div></div></div></div></div></div><div class=\"sk-item sk-dashed-wrapped\"><div class=\"sk-label-container\"><div class=\"sk-label sk-toggleable\"><input class=\"sk-toggleable__control sk-hidden--visually\" id=\"49e4f5ec-1f67-4c85-8d0a-933d02d1edeb\" type=\"checkbox\" ><label for=\"49e4f5ec-1f67-4c85-8d0a-933d02d1edeb\" class=\"sk-toggleable__label sk-toggleable__label-arrow\">trf3: ColumnTransformer</label><div class=\"sk-toggleable__content\"><pre>ColumnTransformer(remainder=&#x27;passthrough&#x27;,\n",
       "                  transformers=[(&#x27;scaling&#x27;, StandardScaler(), [5, 6, 7, 8])])</pre></div></div></div><div class=\"sk-parallel\"><div class=\"sk-parallel-item\"><div class=\"sk-item\"><div class=\"sk-label-container\"><div class=\"sk-label sk-toggleable\"><input class=\"sk-toggleable__control sk-hidden--visually\" id=\"e78ea8f9-5e7e-443f-a58d-9089645a0aef\" type=\"checkbox\" ><label for=\"e78ea8f9-5e7e-443f-a58d-9089645a0aef\" class=\"sk-toggleable__label sk-toggleable__label-arrow\">scaling</label><div class=\"sk-toggleable__content\"><pre>[5, 6, 7, 8]</pre></div></div></div><div class=\"sk-serial\"><div class=\"sk-item\"><div class=\"sk-estimator sk-toggleable\"><input class=\"sk-toggleable__control sk-hidden--visually\" id=\"0ce2dd48-93e8-4d16-9a50-051d00b854f7\" type=\"checkbox\" ><label for=\"0ce2dd48-93e8-4d16-9a50-051d00b854f7\" class=\"sk-toggleable__label sk-toggleable__label-arrow\">StandardScaler</label><div class=\"sk-toggleable__content\"><pre>StandardScaler()</pre></div></div></div></div></div></div><div class=\"sk-parallel-item\"><div class=\"sk-item\"><div class=\"sk-label-container\"><div class=\"sk-label sk-toggleable\"><input class=\"sk-toggleable__control sk-hidden--visually\" id=\"15a7f5b4-6cb7-4a54-be5c-36e68d25b3cc\" type=\"checkbox\" ><label for=\"15a7f5b4-6cb7-4a54-be5c-36e68d25b3cc\" class=\"sk-toggleable__label sk-toggleable__label-arrow\">remainder</label><div class=\"sk-toggleable__content\"><pre>[0, 1, 2, 3, 4, 9, 10, 11, 12, 13, 14, 15, 16, 17, 18, 19]</pre></div></div></div><div class=\"sk-serial\"><div class=\"sk-item\"><div class=\"sk-estimator sk-toggleable\"><input class=\"sk-toggleable__control sk-hidden--visually\" id=\"dae69200-cbd6-4d54-809f-ee6590968fd6\" type=\"checkbox\" ><label for=\"dae69200-cbd6-4d54-809f-ee6590968fd6\" class=\"sk-toggleable__label sk-toggleable__label-arrow\">passthrough</label><div class=\"sk-toggleable__content\"><pre>passthrough</pre></div></div></div></div></div></div></div></div><div class=\"sk-item\"><div class=\"sk-estimator sk-toggleable\"><input class=\"sk-toggleable__control sk-hidden--visually\" id=\"292317d8-6746-448a-9612-4a01fc4d2540\" type=\"checkbox\" ><label for=\"292317d8-6746-448a-9612-4a01fc4d2540\" class=\"sk-toggleable__label sk-toggleable__label-arrow\">RandomForestClassifier</label><div class=\"sk-toggleable__content\"><pre>RandomForestClassifier()</pre></div></div></div></div></div></div></div>"
      ],
      "text/plain": [
       "Pipeline(steps=[('trf1',\n",
       "                 ColumnTransformer(remainder='passthrough',\n",
       "                                   transformers=[('imputer_cat',\n",
       "                                                  SimpleImputer(strategy='most_frequent'),\n",
       "                                                  ['Gender', 'Married',\n",
       "                                                   'Dependents', 'Education',\n",
       "                                                   'Self_Employed',\n",
       "                                                   'Credit_History']),\n",
       "                                                 ('impute_num', SimpleImputer(),\n",
       "                                                  ['LoanAmount',\n",
       "                                                   'Loan_Amount_Term'])])),\n",
       "                ('trf2',\n",
       "                 ColumnTransformer(remainder='passthrough',\n",
       "                                   transformers=[('encoding',\n",
       "                                                  OneHotEncoder(handle_unknown='ignore',\n",
       "                                                                sparse=False),\n",
       "                                                  [0, 1, 2, 3, 4, 10])])),\n",
       "                ('trf3',\n",
       "                 ColumnTransformer(remainder='passthrough',\n",
       "                                   transformers=[('scaling', StandardScaler(),\n",
       "                                                  [5, 6, 7, 8])])),\n",
       "                ('trf4', RandomForestClassifier())])"
      ]
     },
     "execution_count": 268,
     "metadata": {},
     "output_type": "execute_result"
    }
   ],
   "source": [
    "pipe.fit(X_train,y_train)"
   ]
  },
  {
   "cell_type": "code",
   "execution_count": 269,
   "metadata": {},
   "outputs": [],
   "source": [
    "y_pred=pipe.predict(X_test)"
   ]
  },
  {
   "cell_type": "code",
   "execution_count": 270,
   "metadata": {},
   "outputs": [],
   "source": [
    "from sklearn.metrics import accuracy_score"
   ]
  },
  {
   "cell_type": "code",
   "execution_count": 271,
   "metadata": {},
   "outputs": [
    {
     "data": {
      "text/plain": [
       "0.8455284552845529"
      ]
     },
     "execution_count": 271,
     "metadata": {},
     "output_type": "execute_result"
    }
   ],
   "source": [
    "accuracy_score(y_test,y_pred)"
   ]
  },
  {
   "cell_type": "code",
   "execution_count": 272,
   "metadata": {},
   "outputs": [
    {
     "data": {
      "text/plain": [
       "0.7596371882086168"
      ]
     },
     "execution_count": 272,
     "metadata": {},
     "output_type": "execute_result"
    }
   ],
   "source": [
    "# cross validation using cross_val_score\n",
    "from sklearn.model_selection import cross_val_score\n",
    "cross_val_score(pipe, X_train, y_train, cv=5, scoring='accuracy').mean()"
   ]
  },
  {
   "cell_type": "code",
   "execution_count": 273,
   "metadata": {},
   "outputs": [],
   "source": [
    "# gridsearchcv\n",
    "params = {\n",
    "    'trf4__max_depth':[1,2,3,4,5,None]\n",
    "}"
   ]
  },
  {
   "cell_type": "code",
   "execution_count": 274,
   "metadata": {},
   "outputs": [
    {
     "data": {
      "text/html": [
       "<style>#sk-0a876836-9c3f-4031-9b8f-bfefe05e61d8 {color: black;background-color: white;}#sk-0a876836-9c3f-4031-9b8f-bfefe05e61d8 pre{padding: 0;}#sk-0a876836-9c3f-4031-9b8f-bfefe05e61d8 div.sk-toggleable {background-color: white;}#sk-0a876836-9c3f-4031-9b8f-bfefe05e61d8 label.sk-toggleable__label {cursor: pointer;display: block;width: 100%;margin-bottom: 0;padding: 0.3em;box-sizing: border-box;text-align: center;}#sk-0a876836-9c3f-4031-9b8f-bfefe05e61d8 label.sk-toggleable__label-arrow:before {content: \"▸\";float: left;margin-right: 0.25em;color: #696969;}#sk-0a876836-9c3f-4031-9b8f-bfefe05e61d8 label.sk-toggleable__label-arrow:hover:before {color: black;}#sk-0a876836-9c3f-4031-9b8f-bfefe05e61d8 div.sk-estimator:hover label.sk-toggleable__label-arrow:before {color: black;}#sk-0a876836-9c3f-4031-9b8f-bfefe05e61d8 div.sk-toggleable__content {max-height: 0;max-width: 0;overflow: hidden;text-align: left;background-color: #f0f8ff;}#sk-0a876836-9c3f-4031-9b8f-bfefe05e61d8 div.sk-toggleable__content pre {margin: 0.2em;color: black;border-radius: 0.25em;background-color: #f0f8ff;}#sk-0a876836-9c3f-4031-9b8f-bfefe05e61d8 input.sk-toggleable__control:checked~div.sk-toggleable__content {max-height: 200px;max-width: 100%;overflow: auto;}#sk-0a876836-9c3f-4031-9b8f-bfefe05e61d8 input.sk-toggleable__control:checked~label.sk-toggleable__label-arrow:before {content: \"▾\";}#sk-0a876836-9c3f-4031-9b8f-bfefe05e61d8 div.sk-estimator input.sk-toggleable__control:checked~label.sk-toggleable__label {background-color: #d4ebff;}#sk-0a876836-9c3f-4031-9b8f-bfefe05e61d8 div.sk-label input.sk-toggleable__control:checked~label.sk-toggleable__label {background-color: #d4ebff;}#sk-0a876836-9c3f-4031-9b8f-bfefe05e61d8 input.sk-hidden--visually {border: 0;clip: rect(1px 1px 1px 1px);clip: rect(1px, 1px, 1px, 1px);height: 1px;margin: -1px;overflow: hidden;padding: 0;position: absolute;width: 1px;}#sk-0a876836-9c3f-4031-9b8f-bfefe05e61d8 div.sk-estimator {font-family: monospace;background-color: #f0f8ff;border: 1px dotted black;border-radius: 0.25em;box-sizing: border-box;margin-bottom: 0.5em;}#sk-0a876836-9c3f-4031-9b8f-bfefe05e61d8 div.sk-estimator:hover {background-color: #d4ebff;}#sk-0a876836-9c3f-4031-9b8f-bfefe05e61d8 div.sk-parallel-item::after {content: \"\";width: 100%;border-bottom: 1px solid gray;flex-grow: 1;}#sk-0a876836-9c3f-4031-9b8f-bfefe05e61d8 div.sk-label:hover label.sk-toggleable__label {background-color: #d4ebff;}#sk-0a876836-9c3f-4031-9b8f-bfefe05e61d8 div.sk-serial::before {content: \"\";position: absolute;border-left: 1px solid gray;box-sizing: border-box;top: 2em;bottom: 0;left: 50%;}#sk-0a876836-9c3f-4031-9b8f-bfefe05e61d8 div.sk-serial {display: flex;flex-direction: column;align-items: center;background-color: white;padding-right: 0.2em;padding-left: 0.2em;}#sk-0a876836-9c3f-4031-9b8f-bfefe05e61d8 div.sk-item {z-index: 1;}#sk-0a876836-9c3f-4031-9b8f-bfefe05e61d8 div.sk-parallel {display: flex;align-items: stretch;justify-content: center;background-color: white;}#sk-0a876836-9c3f-4031-9b8f-bfefe05e61d8 div.sk-parallel::before {content: \"\";position: absolute;border-left: 1px solid gray;box-sizing: border-box;top: 2em;bottom: 0;left: 50%;}#sk-0a876836-9c3f-4031-9b8f-bfefe05e61d8 div.sk-parallel-item {display: flex;flex-direction: column;position: relative;background-color: white;}#sk-0a876836-9c3f-4031-9b8f-bfefe05e61d8 div.sk-parallel-item:first-child::after {align-self: flex-end;width: 50%;}#sk-0a876836-9c3f-4031-9b8f-bfefe05e61d8 div.sk-parallel-item:last-child::after {align-self: flex-start;width: 50%;}#sk-0a876836-9c3f-4031-9b8f-bfefe05e61d8 div.sk-parallel-item:only-child::after {width: 0;}#sk-0a876836-9c3f-4031-9b8f-bfefe05e61d8 div.sk-dashed-wrapped {border: 1px dashed gray;margin: 0 0.4em 0.5em 0.4em;box-sizing: border-box;padding-bottom: 0.4em;background-color: white;position: relative;}#sk-0a876836-9c3f-4031-9b8f-bfefe05e61d8 div.sk-label label {font-family: monospace;font-weight: bold;background-color: white;display: inline-block;line-height: 1.2em;}#sk-0a876836-9c3f-4031-9b8f-bfefe05e61d8 div.sk-label-container {position: relative;z-index: 2;text-align: center;}#sk-0a876836-9c3f-4031-9b8f-bfefe05e61d8 div.sk-container {/* jupyter's `normalize.less` sets `[hidden] { display: none; }` but bootstrap.min.css set `[hidden] { display: none !important; }` so we also need the `!important` here to be able to override the default hidden behavior on the sphinx rendered scikit-learn.org. See: https://github.com/scikit-learn/scikit-learn/issues/21755 */display: inline-block !important;position: relative;}#sk-0a876836-9c3f-4031-9b8f-bfefe05e61d8 div.sk-text-repr-fallback {display: none;}</style><div id=\"sk-0a876836-9c3f-4031-9b8f-bfefe05e61d8\" class=\"sk-top-container\"><div class=\"sk-text-repr-fallback\"><pre>GridSearchCV(cv=5,\n",
       "             estimator=Pipeline(steps=[(&#x27;trf1&#x27;,\n",
       "                                        ColumnTransformer(remainder=&#x27;passthrough&#x27;,\n",
       "                                                          transformers=[(&#x27;imputer_cat&#x27;,\n",
       "                                                                         SimpleImputer(strategy=&#x27;most_frequent&#x27;),\n",
       "                                                                         [&#x27;Gender&#x27;,\n",
       "                                                                          &#x27;Married&#x27;,\n",
       "                                                                          &#x27;Dependents&#x27;,\n",
       "                                                                          &#x27;Education&#x27;,\n",
       "                                                                          &#x27;Self_Employed&#x27;,\n",
       "                                                                          &#x27;Credit_History&#x27;]),\n",
       "                                                                        (&#x27;impute_num&#x27;,\n",
       "                                                                         SimpleImputer(),\n",
       "                                                                         [&#x27;LoanAmount&#x27;,\n",
       "                                                                          &#x27;Loan_Amount_Term&#x27;])])),\n",
       "                                       (&#x27;trf2&#x27;,\n",
       "                                        ColumnTransformer(remainder=&#x27;passthrough&#x27;,\n",
       "                                                          transformers=[(&#x27;encoding&#x27;,\n",
       "                                                                         OneHotEncoder(handle_unknown=&#x27;ignore&#x27;,\n",
       "                                                                                       sparse=False),\n",
       "                                                                         [0, 1,\n",
       "                                                                          2, 3,\n",
       "                                                                          4,\n",
       "                                                                          10])])),\n",
       "                                       (&#x27;trf3&#x27;,\n",
       "                                        ColumnTransformer(remainder=&#x27;passthrough&#x27;,\n",
       "                                                          transformers=[(&#x27;scaling&#x27;,\n",
       "                                                                         StandardScaler(),\n",
       "                                                                         [5, 6,\n",
       "                                                                          7,\n",
       "                                                                          8])])),\n",
       "                                       (&#x27;trf4&#x27;, RandomForestClassifier())]),\n",
       "             param_grid={&#x27;trf4__max_depth&#x27;: [1, 2, 3, 4, 5, None]},\n",
       "             scoring=&#x27;accuracy&#x27;)</pre><b>Please rerun this cell to show the HTML repr or trust the notebook.</b></div><div class=\"sk-container\" hidden><div class=\"sk-item sk-dashed-wrapped\"><div class=\"sk-label-container\"><div class=\"sk-label sk-toggleable\"><input class=\"sk-toggleable__control sk-hidden--visually\" id=\"00555c66-8990-450c-b538-9d91ad5a800e\" type=\"checkbox\" ><label for=\"00555c66-8990-450c-b538-9d91ad5a800e\" class=\"sk-toggleable__label sk-toggleable__label-arrow\">GridSearchCV</label><div class=\"sk-toggleable__content\"><pre>GridSearchCV(cv=5,\n",
       "             estimator=Pipeline(steps=[(&#x27;trf1&#x27;,\n",
       "                                        ColumnTransformer(remainder=&#x27;passthrough&#x27;,\n",
       "                                                          transformers=[(&#x27;imputer_cat&#x27;,\n",
       "                                                                         SimpleImputer(strategy=&#x27;most_frequent&#x27;),\n",
       "                                                                         [&#x27;Gender&#x27;,\n",
       "                                                                          &#x27;Married&#x27;,\n",
       "                                                                          &#x27;Dependents&#x27;,\n",
       "                                                                          &#x27;Education&#x27;,\n",
       "                                                                          &#x27;Self_Employed&#x27;,\n",
       "                                                                          &#x27;Credit_History&#x27;]),\n",
       "                                                                        (&#x27;impute_num&#x27;,\n",
       "                                                                         SimpleImputer(),\n",
       "                                                                         [&#x27;LoanAmount&#x27;,\n",
       "                                                                          &#x27;Loan_Amount_Term&#x27;])])),\n",
       "                                       (&#x27;trf2&#x27;,\n",
       "                                        ColumnTransformer(remainder=&#x27;passthrough&#x27;,\n",
       "                                                          transformers=[(&#x27;encoding&#x27;,\n",
       "                                                                         OneHotEncoder(handle_unknown=&#x27;ignore&#x27;,\n",
       "                                                                                       sparse=False),\n",
       "                                                                         [0, 1,\n",
       "                                                                          2, 3,\n",
       "                                                                          4,\n",
       "                                                                          10])])),\n",
       "                                       (&#x27;trf3&#x27;,\n",
       "                                        ColumnTransformer(remainder=&#x27;passthrough&#x27;,\n",
       "                                                          transformers=[(&#x27;scaling&#x27;,\n",
       "                                                                         StandardScaler(),\n",
       "                                                                         [5, 6,\n",
       "                                                                          7,\n",
       "                                                                          8])])),\n",
       "                                       (&#x27;trf4&#x27;, RandomForestClassifier())]),\n",
       "             param_grid={&#x27;trf4__max_depth&#x27;: [1, 2, 3, 4, 5, None]},\n",
       "             scoring=&#x27;accuracy&#x27;)</pre></div></div></div><div class=\"sk-parallel\"><div class=\"sk-parallel-item\"><div class=\"sk-item\"><div class=\"sk-serial\"><div class=\"sk-item\"><div class=\"sk-serial\"><div class=\"sk-item sk-dashed-wrapped\"><div class=\"sk-label-container\"><div class=\"sk-label sk-toggleable\"><input class=\"sk-toggleable__control sk-hidden--visually\" id=\"23bcda6a-87ce-42d2-8091-ce58e7e4958b\" type=\"checkbox\" ><label for=\"23bcda6a-87ce-42d2-8091-ce58e7e4958b\" class=\"sk-toggleable__label sk-toggleable__label-arrow\">trf1: ColumnTransformer</label><div class=\"sk-toggleable__content\"><pre>ColumnTransformer(remainder=&#x27;passthrough&#x27;,\n",
       "                  transformers=[(&#x27;imputer_cat&#x27;,\n",
       "                                 SimpleImputer(strategy=&#x27;most_frequent&#x27;),\n",
       "                                 [&#x27;Gender&#x27;, &#x27;Married&#x27;, &#x27;Dependents&#x27;,\n",
       "                                  &#x27;Education&#x27;, &#x27;Self_Employed&#x27;,\n",
       "                                  &#x27;Credit_History&#x27;]),\n",
       "                                (&#x27;impute_num&#x27;, SimpleImputer(),\n",
       "                                 [&#x27;LoanAmount&#x27;, &#x27;Loan_Amount_Term&#x27;])])</pre></div></div></div><div class=\"sk-parallel\"><div class=\"sk-parallel-item\"><div class=\"sk-item\"><div class=\"sk-label-container\"><div class=\"sk-label sk-toggleable\"><input class=\"sk-toggleable__control sk-hidden--visually\" id=\"4fe1d506-f606-4285-aa22-89fcb6a6292d\" type=\"checkbox\" ><label for=\"4fe1d506-f606-4285-aa22-89fcb6a6292d\" class=\"sk-toggleable__label sk-toggleable__label-arrow\">imputer_cat</label><div class=\"sk-toggleable__content\"><pre>[&#x27;Gender&#x27;, &#x27;Married&#x27;, &#x27;Dependents&#x27;, &#x27;Education&#x27;, &#x27;Self_Employed&#x27;, &#x27;Credit_History&#x27;]</pre></div></div></div><div class=\"sk-serial\"><div class=\"sk-item\"><div class=\"sk-estimator sk-toggleable\"><input class=\"sk-toggleable__control sk-hidden--visually\" id=\"2e1c4480-b484-4608-b280-9058b9734701\" type=\"checkbox\" ><label for=\"2e1c4480-b484-4608-b280-9058b9734701\" class=\"sk-toggleable__label sk-toggleable__label-arrow\">SimpleImputer</label><div class=\"sk-toggleable__content\"><pre>SimpleImputer(strategy=&#x27;most_frequent&#x27;)</pre></div></div></div></div></div></div><div class=\"sk-parallel-item\"><div class=\"sk-item\"><div class=\"sk-label-container\"><div class=\"sk-label sk-toggleable\"><input class=\"sk-toggleable__control sk-hidden--visually\" id=\"bb69f920-fd96-497c-95a5-787194f09f65\" type=\"checkbox\" ><label for=\"bb69f920-fd96-497c-95a5-787194f09f65\" class=\"sk-toggleable__label sk-toggleable__label-arrow\">impute_num</label><div class=\"sk-toggleable__content\"><pre>[&#x27;LoanAmount&#x27;, &#x27;Loan_Amount_Term&#x27;]</pre></div></div></div><div class=\"sk-serial\"><div class=\"sk-item\"><div class=\"sk-estimator sk-toggleable\"><input class=\"sk-toggleable__control sk-hidden--visually\" id=\"1c373bae-f8ed-45d7-ba27-dd110f156c8b\" type=\"checkbox\" ><label for=\"1c373bae-f8ed-45d7-ba27-dd110f156c8b\" class=\"sk-toggleable__label sk-toggleable__label-arrow\">SimpleImputer</label><div class=\"sk-toggleable__content\"><pre>SimpleImputer()</pre></div></div></div></div></div></div><div class=\"sk-parallel-item\"><div class=\"sk-item\"><div class=\"sk-label-container\"><div class=\"sk-label sk-toggleable\"><input class=\"sk-toggleable__control sk-hidden--visually\" id=\"310eea6d-c425-4c9d-b862-ed172b4f0b53\" type=\"checkbox\" ><label for=\"310eea6d-c425-4c9d-b862-ed172b4f0b53\" class=\"sk-toggleable__label sk-toggleable__label-arrow\">remainder</label><div class=\"sk-toggleable__content\"><pre>[&#x27;ApplicantIncome&#x27;, &#x27;CoapplicantIncome&#x27;, &#x27;Property_Area&#x27;]</pre></div></div></div><div class=\"sk-serial\"><div class=\"sk-item\"><div class=\"sk-estimator sk-toggleable\"><input class=\"sk-toggleable__control sk-hidden--visually\" id=\"f92f1eb5-eb35-4e72-bfa5-95a5b225d58c\" type=\"checkbox\" ><label for=\"f92f1eb5-eb35-4e72-bfa5-95a5b225d58c\" class=\"sk-toggleable__label sk-toggleable__label-arrow\">passthrough</label><div class=\"sk-toggleable__content\"><pre>passthrough</pre></div></div></div></div></div></div></div></div><div class=\"sk-item sk-dashed-wrapped\"><div class=\"sk-label-container\"><div class=\"sk-label sk-toggleable\"><input class=\"sk-toggleable__control sk-hidden--visually\" id=\"bdad5afd-e632-4ac1-ac69-10bd15ecdda4\" type=\"checkbox\" ><label for=\"bdad5afd-e632-4ac1-ac69-10bd15ecdda4\" class=\"sk-toggleable__label sk-toggleable__label-arrow\">trf2: ColumnTransformer</label><div class=\"sk-toggleable__content\"><pre>ColumnTransformer(remainder=&#x27;passthrough&#x27;,\n",
       "                  transformers=[(&#x27;encoding&#x27;,\n",
       "                                 OneHotEncoder(handle_unknown=&#x27;ignore&#x27;,\n",
       "                                               sparse=False),\n",
       "                                 [0, 1, 2, 3, 4, 10])])</pre></div></div></div><div class=\"sk-parallel\"><div class=\"sk-parallel-item\"><div class=\"sk-item\"><div class=\"sk-label-container\"><div class=\"sk-label sk-toggleable\"><input class=\"sk-toggleable__control sk-hidden--visually\" id=\"e62692aa-6c91-4851-8935-e314076ae996\" type=\"checkbox\" ><label for=\"e62692aa-6c91-4851-8935-e314076ae996\" class=\"sk-toggleable__label sk-toggleable__label-arrow\">encoding</label><div class=\"sk-toggleable__content\"><pre>[0, 1, 2, 3, 4, 10]</pre></div></div></div><div class=\"sk-serial\"><div class=\"sk-item\"><div class=\"sk-estimator sk-toggleable\"><input class=\"sk-toggleable__control sk-hidden--visually\" id=\"6c5033ac-a87a-4563-8e3b-1147fbe68b08\" type=\"checkbox\" ><label for=\"6c5033ac-a87a-4563-8e3b-1147fbe68b08\" class=\"sk-toggleable__label sk-toggleable__label-arrow\">OneHotEncoder</label><div class=\"sk-toggleable__content\"><pre>OneHotEncoder(handle_unknown=&#x27;ignore&#x27;, sparse=False)</pre></div></div></div></div></div></div><div class=\"sk-parallel-item\"><div class=\"sk-item\"><div class=\"sk-label-container\"><div class=\"sk-label sk-toggleable\"><input class=\"sk-toggleable__control sk-hidden--visually\" id=\"14e1cd81-084c-43b9-a613-7a151fa76198\" type=\"checkbox\" ><label for=\"14e1cd81-084c-43b9-a613-7a151fa76198\" class=\"sk-toggleable__label sk-toggleable__label-arrow\">remainder</label><div class=\"sk-toggleable__content\"><pre>[5, 6, 7, 8, 9]</pre></div></div></div><div class=\"sk-serial\"><div class=\"sk-item\"><div class=\"sk-estimator sk-toggleable\"><input class=\"sk-toggleable__control sk-hidden--visually\" id=\"4ce2d374-2699-4488-acfc-2a11db7676a9\" type=\"checkbox\" ><label for=\"4ce2d374-2699-4488-acfc-2a11db7676a9\" class=\"sk-toggleable__label sk-toggleable__label-arrow\">passthrough</label><div class=\"sk-toggleable__content\"><pre>passthrough</pre></div></div></div></div></div></div></div></div><div class=\"sk-item sk-dashed-wrapped\"><div class=\"sk-label-container\"><div class=\"sk-label sk-toggleable\"><input class=\"sk-toggleable__control sk-hidden--visually\" id=\"6c7c1220-c48e-4fc2-9977-b9ab545cc987\" type=\"checkbox\" ><label for=\"6c7c1220-c48e-4fc2-9977-b9ab545cc987\" class=\"sk-toggleable__label sk-toggleable__label-arrow\">trf3: ColumnTransformer</label><div class=\"sk-toggleable__content\"><pre>ColumnTransformer(remainder=&#x27;passthrough&#x27;,\n",
       "                  transformers=[(&#x27;scaling&#x27;, StandardScaler(), [5, 6, 7, 8])])</pre></div></div></div><div class=\"sk-parallel\"><div class=\"sk-parallel-item\"><div class=\"sk-item\"><div class=\"sk-label-container\"><div class=\"sk-label sk-toggleable\"><input class=\"sk-toggleable__control sk-hidden--visually\" id=\"d69dd56c-370d-4daf-8868-f97f1b6d5466\" type=\"checkbox\" ><label for=\"d69dd56c-370d-4daf-8868-f97f1b6d5466\" class=\"sk-toggleable__label sk-toggleable__label-arrow\">scaling</label><div class=\"sk-toggleable__content\"><pre>[5, 6, 7, 8]</pre></div></div></div><div class=\"sk-serial\"><div class=\"sk-item\"><div class=\"sk-estimator sk-toggleable\"><input class=\"sk-toggleable__control sk-hidden--visually\" id=\"9277f2b3-7eb9-49d2-8bb5-3c910b534839\" type=\"checkbox\" ><label for=\"9277f2b3-7eb9-49d2-8bb5-3c910b534839\" class=\"sk-toggleable__label sk-toggleable__label-arrow\">StandardScaler</label><div class=\"sk-toggleable__content\"><pre>StandardScaler()</pre></div></div></div></div></div></div><div class=\"sk-parallel-item\"><div class=\"sk-item\"><div class=\"sk-label-container\"><div class=\"sk-label sk-toggleable\"><input class=\"sk-toggleable__control sk-hidden--visually\" id=\"402ebf3d-1cd1-4fd1-934a-e80135bc2b55\" type=\"checkbox\" ><label for=\"402ebf3d-1cd1-4fd1-934a-e80135bc2b55\" class=\"sk-toggleable__label sk-toggleable__label-arrow\">remainder</label><div class=\"sk-toggleable__content\"><pre>[0, 1, 2, 3, 4, 9, 10, 11, 12, 13, 14, 15, 16, 17, 18, 19]</pre></div></div></div><div class=\"sk-serial\"><div class=\"sk-item\"><div class=\"sk-estimator sk-toggleable\"><input class=\"sk-toggleable__control sk-hidden--visually\" id=\"24161d8c-2174-4e12-86f7-9a0757b2cc60\" type=\"checkbox\" ><label for=\"24161d8c-2174-4e12-86f7-9a0757b2cc60\" class=\"sk-toggleable__label sk-toggleable__label-arrow\">passthrough</label><div class=\"sk-toggleable__content\"><pre>passthrough</pre></div></div></div></div></div></div></div></div><div class=\"sk-item\"><div class=\"sk-estimator sk-toggleable\"><input class=\"sk-toggleable__control sk-hidden--visually\" id=\"761989cd-2aab-4766-bc3d-ba88aec07bed\" type=\"checkbox\" ><label for=\"761989cd-2aab-4766-bc3d-ba88aec07bed\" class=\"sk-toggleable__label sk-toggleable__label-arrow\">RandomForestClassifier</label><div class=\"sk-toggleable__content\"><pre>RandomForestClassifier()</pre></div></div></div></div></div></div></div></div></div></div></div></div>"
      ],
      "text/plain": [
       "GridSearchCV(cv=5,\n",
       "             estimator=Pipeline(steps=[('trf1',\n",
       "                                        ColumnTransformer(remainder='passthrough',\n",
       "                                                          transformers=[('imputer_cat',\n",
       "                                                                         SimpleImputer(strategy='most_frequent'),\n",
       "                                                                         ['Gender',\n",
       "                                                                          'Married',\n",
       "                                                                          'Dependents',\n",
       "                                                                          'Education',\n",
       "                                                                          'Self_Employed',\n",
       "                                                                          'Credit_History']),\n",
       "                                                                        ('impute_num',\n",
       "                                                                         SimpleImputer(),\n",
       "                                                                         ['LoanAmount',\n",
       "                                                                          'Loan_Amount_Term'])])),\n",
       "                                       ('trf2',\n",
       "                                        ColumnTransformer(remainder='passthrough',\n",
       "                                                          transformers=[('encoding',\n",
       "                                                                         OneHotEncoder(handle_unknown='ignore',\n",
       "                                                                                       sparse=False),\n",
       "                                                                         [0, 1,\n",
       "                                                                          2, 3,\n",
       "                                                                          4,\n",
       "                                                                          10])])),\n",
       "                                       ('trf3',\n",
       "                                        ColumnTransformer(remainder='passthrough',\n",
       "                                                          transformers=[('scaling',\n",
       "                                                                         StandardScaler(),\n",
       "                                                                         [5, 6,\n",
       "                                                                          7,\n",
       "                                                                          8])])),\n",
       "                                       ('trf4', RandomForestClassifier())]),\n",
       "             param_grid={'trf4__max_depth': [1, 2, 3, 4, 5, None]},\n",
       "             scoring='accuracy')"
      ]
     },
     "execution_count": 274,
     "metadata": {},
     "output_type": "execute_result"
    }
   ],
   "source": [
    "from sklearn.model_selection import GridSearchCV\n",
    "grid = GridSearchCV(pipe, params, cv=5, scoring='accuracy')\n",
    "grid.fit(X_train, y_train)"
   ]
  },
  {
   "cell_type": "code",
   "execution_count": 275,
   "metadata": {},
   "outputs": [
    {
     "data": {
      "text/plain": [
       "0.7921871779014636"
      ]
     },
     "execution_count": 275,
     "metadata": {},
     "output_type": "execute_result"
    }
   ],
   "source": [
    "grid.best_score_"
   ]
  },
  {
   "cell_type": "code",
   "execution_count": 276,
   "metadata": {},
   "outputs": [
    {
     "data": {
      "text/plain": [
       "{'trf4__max_depth': 4}"
      ]
     },
     "execution_count": 276,
     "metadata": {},
     "output_type": "execute_result"
    }
   ],
   "source": [
    "grid.best_params_"
   ]
  },
  {
   "cell_type": "code",
   "execution_count": 278,
   "metadata": {},
   "outputs": [],
   "source": [
    "import pandas as pd\n",
    "new_df= pd.DataFrame({\n",
    "    'Gender':'Male',\n",
    "    'Married':1,\n",
    "    'Dependents':2,\n",
    "    'Education':0,\n",
    "    'Self_Employed':0,\n",
    "    'ApplicantIncome':2889,\n",
    "    'CoapplicantIncome':0.0,\n",
    "    'LoanAmount':45,\n",
    "    'Loan_Amount_Term':180,\n",
    "    'Credit_History':0,\n",
    "    'Property_Area':1\n",
    "},index=[0])"
   ]
  },
  {
   "cell_type": "code",
   "execution_count": 279,
   "metadata": {},
   "outputs": [
    {
     "data": {
      "text/plain": [
       "array(['N'], dtype=object)"
      ]
     },
     "execution_count": 279,
     "metadata": {},
     "output_type": "execute_result"
    }
   ],
   "source": [
    "pipe.predict(new_df)"
   ]
  },
  {
   "cell_type": "code",
   "execution_count": null,
   "metadata": {},
   "outputs": [],
   "source": []
  }
 ],
 "metadata": {
  "kernelspec": {
   "display_name": "base",
   "language": "python",
   "name": "python3"
  },
  "language_info": {
   "codemirror_mode": {
    "name": "ipython",
    "version": 3
   },
   "file_extension": ".py",
   "mimetype": "text/x-python",
   "name": "python",
   "nbconvert_exporter": "python",
   "pygments_lexer": "ipython3",
   "version": "3.9.12"
  },
  "orig_nbformat": 4
 },
 "nbformat": 4,
 "nbformat_minor": 2
}
